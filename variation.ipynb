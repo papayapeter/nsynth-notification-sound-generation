{
 "cells": [
  {
   "cell_type": "markdown",
   "metadata": {},
   "source": [
    "# experiment with random variation on encoded audio signals\n",
    "\n",
    "process:\n",
    "\n",
    "1. encode an audio file with an nsynth model\n",
    "2. practice slight random variations on the encoding\n",
    "3. decode the audio (preferably in one batch)"
   ]
  },
  {
   "cell_type": "markdown",
   "metadata": {},
   "source": [
    "##### import"
   ]
  },
  {
   "cell_type": "code",
   "execution_count": null,
   "metadata": {},
   "outputs": [],
   "source": [
    "import os\n",
    "import numpy as np\n",
    "import matplotlib.pyplot as plt\n",
    "from magenta.models.nsynth import utils\n",
    "from magenta.models.nsynth.wavenet import fastgen\n",
    "from numpy.random import default_rng\n",
    "%matplotlib inline\n",
    "%config InlineBackend.figure_format = 'jpg'"
   ]
  },
  {
   "cell_type": "markdown",
   "metadata": {},
   "source": [
    "##### load the audio file"
   ]
  },
  {
   "cell_type": "code",
   "execution_count": null,
   "metadata": {},
   "outputs": [],
   "source": [
    "filename = os.path.join('in', 'iphone-ding-sound.wav')\n",
    "sample_rate = 16000\n",
    "length = 3\n",
    "audio = utils.load_audio(filename,\n",
    "                         sample_length=int(sample_rate * length),\n",
    "                         sr=sample_rate)\n",
    "sample_length = audio.shape[0]\n",
    "print(f'{sample_length} samples, {sample_length / float(sample_rate)} seconds')\n"
   ]
  },
  {
   "cell_type": "markdown",
   "metadata": {},
   "source": [
    "##### encode the audio with nsynth"
   ]
  },
  {
   "cell_type": "code",
   "execution_count": null,
   "metadata": {},
   "outputs": [],
   "source": [
    "%%time\n",
    "encoding = fastgen.encode(audio,\n",
    "                          os.path.join('models', 'wavenet-ckpt', 'model.ckpt-200000'),\n",
    "                          sample_length)"
   ]
  },
  {
   "cell_type": "code",
   "execution_count": null,
   "metadata": {},
   "outputs": [],
   "source": [
    "print(encoding.shape)"
   ]
  },
  {
   "cell_type": "markdown",
   "metadata": {},
   "source": [
    "optionally save the encoded tensor"
   ]
  },
  {
   "cell_type": "code",
   "execution_count": null,
   "metadata": {},
   "outputs": [],
   "source": [
    "np.save(\n",
    "    os.path.join('npy',\n",
    "                 f'{os.path.splitext(os.path.basename(filename))[0]}.npy'),\n",
    "    encoding)\n"
   ]
  },
  {
   "cell_type": "markdown",
   "metadata": {},
   "source": [
    "##### examine the audio & encoding"
   ]
  },
  {
   "cell_type": "code",
   "execution_count": null,
   "metadata": {},
   "outputs": [],
   "source": [
    "fig, axs = plt.subplots(2, 1, figsize=(10, 5))\n",
    "axs[0].plot(audio)\n",
    "axs[0].set_title('audio signal')\n",
    "axs[1].plot(encoding[0])\n",
    "axs[1].set_title('nsynth encoding')"
   ]
  },
  {
   "cell_type": "markdown",
   "metadata": {},
   "source": [
    "## introduce variations\n",
    "\n",
    "for a set number of times variate slightly on the encoded matrix and concat all elements into an array for parallel decoding"
   ]
  },
  {
   "cell_type": "markdown",
   "metadata": {},
   "source": [
    "### random deviation on all dimensions"
   ]
  },
  {
   "cell_type": "code",
   "execution_count": null,
   "metadata": {},
   "outputs": [],
   "source": [
    "rng = default_rng()\n",
    "\n",
    "copy = np.copy(encoding[0])\n",
    "new_encoding = np.tile(copy, (5, 1, 1))\n",
    "\n",
    "for i in range(new_encoding.shape[0]):\n",
    "    scale = i * 0.1 / (new_encoding.shape[0] - 1)\n",
    "\n",
    "    for j in range(new_encoding.shape[2]):\n",
    "        vals = rng.normal(size=encoding.shape[1], scale=scale)\n",
    "        new_encoding[i][:, j] += vals\n",
    "\n",
    "fig, axs = plt.subplots(new_encoding.shape[0],\n",
    "                        1,\n",
    "                        figsize=(10, new_encoding.shape[0] * 2.5))\n",
    "\n",
    "for i in range(new_encoding.shape[0]):\n",
    "    axs[i].plot(new_encoding[i])\n",
    "    axs[i].set_title(f'nsynth encoding w/ deviations of scale {scale}')\n"
   ]
  },
  {
   "cell_type": "markdown",
   "metadata": {},
   "source": [
    "##### decode all variations and save as .wavs"
   ]
  },
  {
   "cell_type": "code",
   "execution_count": null,
   "metadata": {},
   "outputs": [],
   "source": [
    "fastgen.synthesize(\n",
    "    new_encoding,\n",
    "    save_paths=[\n",
    "        os.path.join(\n",
    "            'out',\n",
    "            f'gen_mod{i * 0.1 / (new_encoding.shape[0] - 1):.3f}_{os.path.basename(filename)}'\n",
    "        ) for i in range(new_encoding.shape[0])\n",
    "    ],\n",
    "    checkpoint_path=os.path.join('models', 'wavenet-ckpt',\n",
    "                                 'model.ckpt-200000'),\n",
    "    samples_per_save=sample_length)\n"
   ]
  },
  {
   "cell_type": "markdown",
   "metadata": {},
   "source": [
    "### random deviations on some dimensions"
   ]
  },
  {
   "cell_type": "code",
   "execution_count": null,
   "metadata": {},
   "outputs": [],
   "source": [
    "rng = default_rng()\n",
    "\n",
    "copy = np.copy(encoding[0])\n",
    "new_encoding = np.tile(copy, (new_encoding.shape[2], 1, 1))\n",
    "\n",
    "for i in range(new_encoding.shape[0]):\n",
    "    for j in range(i):\n",
    "        vals = rng.normal(size=encoding.shape[1], scale=0.1)\n",
    "        new_encoding[i][:, j] += vals\n",
    "\n",
    "fig, axs = plt.subplots(new_encoding.shape[0],\n",
    "                        1,\n",
    "                        figsize=(10, new_encoding.shape[0] * 2.5))\n",
    "\n",
    "for i in range(new_encoding.shape[0]):\n",
    "    axs[i].plot(new_encoding[i])\n",
    "    axs[i].set_title(f'nsynth encoding w/ deviations on {i} axes')\n"
   ]
  },
  {
   "cell_type": "markdown",
   "metadata": {},
   "source": [
    "##### decode all variations and save as .wavs"
   ]
  },
  {
   "cell_type": "code",
   "execution_count": null,
   "metadata": {},
   "outputs": [],
   "source": [
    "fastgen.synthesize(\n",
    "    new_encoding,\n",
    "    save_paths=[\n",
    "        os.path.join(\n",
    "            'out',\n",
    "            f'gen_mod{i}axes_{os.path.basename(filename)}'\n",
    "        ) for i in range(new_encoding.shape[0])\n",
    "    ],\n",
    "    checkpoint_path=os.path.join('models', 'wavenet-ckpt',\n",
    "                                 'model.ckpt-200000'),\n",
    "    samples_per_save=sample_length)\n"
   ]
  },
  {
   "cell_type": "markdown",
   "metadata": {},
   "source": [
    "### rampup in some dimensions"
   ]
  },
  {
   "cell_type": "markdown",
   "metadata": {},
   "source": [
    "### losing certain dimensions"
   ]
  }
 ],
 "metadata": {
  "interpreter": {
   "hash": "df5e59f2c70b8d223b50126451109bddf6aec19ff556209f854d53f7091345e1"
  },
  "kernelspec": {
   "display_name": "Python 3.8.13 ('nsynth')",
   "language": "python",
   "name": "python3"
  },
  "language_info": {
   "codemirror_mode": {
    "name": "ipython",
    "version": 3
   },
   "file_extension": ".py",
   "mimetype": "text/x-python",
   "name": "python",
   "nbconvert_exporter": "python",
   "pygments_lexer": "ipython3",
   "version": "3.8.13"
  },
  "orig_nbformat": 4
 },
 "nbformat": 4,
 "nbformat_minor": 2
}
